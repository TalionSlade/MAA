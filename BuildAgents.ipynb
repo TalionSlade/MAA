{
 "cells": [
  {
   "cell_type": "code",
   "execution_count": 12,
   "id": "882c4ef9-eff0-431e-ac42-bb660547845d",
   "metadata": {},
   "outputs": [
    {
     "name": "stdout",
     "output_type": "stream",
     "text": [
      "Requirement already satisfied: langchain_core in c:\\users\\arpan\\appdata\\local\\programs\\python\\python312\\lib\\site-packages (0.3.52)\n",
      "Requirement already satisfied: langchain-anthropic in c:\\users\\arpan\\appdata\\local\\programs\\python\\python312\\lib\\site-packages (0.3.11)\n",
      "Collecting langgraph==0.0.18\n",
      "  Obtaining dependency information for langgraph==0.0.18 from https://files.pythonhosted.org/packages/41/d9/9387561737c4492c3cef2fdb3a36795ba5ceae8260ca2c98e876eb82f398/langgraph-0.0.18-py3-none-any.whl.metadata\n",
      "  Downloading langgraph-0.0.18-py3-none-any.whl.metadata (30 kB)\n"
     ]
    },
    {
     "name": "stderr",
     "output_type": "stream",
     "text": [
      "ERROR: Could not find a version that satisfies the requirement langgraph_supervisor==0.0.5 (from versions: 0.0.1, 0.0.2, 0.0.3, 0.0.4, 0.0.6, 0.0.7, 0.0.8, 0.0.9, 0.0.10, 0.0.11, 0.0.12, 0.0.13, 0.0.14, 0.0.15, 0.0.16)\n",
      "ERROR: No matching distribution found for langgraph_supervisor==0.0.5\n"
     ]
    }
   ],
   "source": [
    "!pip install langchain_core langchain-anthropic langgraph==0.0.18 langgraph_supervisor==0.0.5"
   ]
  },
  {
   "cell_type": "code",
   "execution_count": 13,
   "id": "5411b046-14be-425f-a70c-0042ac02600c",
   "metadata": {},
   "outputs": [
    {
     "name": "stdin",
     "output_type": "stream",
     "text": [
      "ANTHROPIC_API_KEY:  ········\n"
     ]
    }
   ],
   "source": [
    "import os, getpass\n",
    "\n",
    "def _set_env(var: str):\n",
    "    if not os.environ.get(var):\n",
    "        os.environ[var] = getpass.getpass(f\"{var}: \")\n",
    "\n",
    "_set_env(\"ANTHROPIC_API_KEY\")"
   ]
  },
  {
   "cell_type": "markdown",
   "id": "835d6991-8d11-41cd-ba56-cb547a8cf9f5",
   "metadata": {
    "jp-MarkdownHeadingCollapsed": true
   },
   "source": [
    "## Basic Building Block - Augmented LLM"
   ]
  },
  {
   "cell_type": "code",
   "execution_count": 5,
   "id": "13e6f650-a3d3-4deb-81fe-2b46ca9c6c25",
   "metadata": {},
   "outputs": [],
   "source": [
    "from langchain_anthropic import ChatAnthropic\n",
    "llm = ChatAnthropic(model=\"claude-3-5-sonnet-latest\")"
   ]
  },
  {
   "cell_type": "code",
   "execution_count": 6,
   "id": "4b9aa5f0-1ad7-4e37-8361-48a6b1e8e694",
   "metadata": {},
   "outputs": [
    {
     "name": "stdout",
     "output_type": "stream",
     "text": [
      "Generated Search Query -> how to handle multicollinearity correlation between independent variables in dataset\n",
      "Justification for the same -> This search query will help find methods and solutions for dealing with correlated independent variables (multicollinearity) in a dataset, which is a common statistical problem that needs to be addressed for accurate analysis.\n"
     ]
    }
   ],
   "source": [
    "## Schema for Structure Output\n",
    "from pydantic import BaseModel, Field\n",
    "class SearchQuery(BaseModel):\n",
    "    search_query: str = Field(None, description= \"Query that is optimized for web search\")\n",
    "    justification: str = Field(None, description = \"Why is this query relevant to user's request\")\n",
    "\n",
    "## Augmented LLM\n",
    "structured_llm =  llm.with_structured_output(SearchQuery)\n",
    "\n",
    "## Invoke the LLM\n",
    "output = structured_llm.invoke(\"If a dataset has correlation between its independent variables, what should be done?\")\n",
    "print(f\"Generated Search Query -> {output.search_query}\")\n",
    "print(f\"Justification for the same -> {output.justification}\")"
   ]
  },
  {
   "cell_type": "markdown",
   "id": "f693c680-0818-4d44-b2f3-456d4411644f",
   "metadata": {},
   "source": [
    "### Similar example with a tool"
   ]
  },
  {
   "cell_type": "code",
   "execution_count": 8,
   "id": "5aecb351-1ccd-4d84-a9fa-fc7e4cd6e790",
   "metadata": {},
   "outputs": [
    {
     "data": {
      "text/plain": [
       "[{'name': 'multiply',\n",
       "  'args': {'a': 5, 'b': 6},\n",
       "  'id': 'toolu_01YWUBBTtYtXH5zn1gTu1vMm',\n",
       "  'type': 'tool_call'}]"
      ]
     },
     "execution_count": 8,
     "metadata": {},
     "output_type": "execute_result"
    }
   ],
   "source": [
    "# define a tool\n",
    "def multiply(a: int,b: int) -> int:\n",
    "    return a*b\n",
    "    \n",
    "#Augment with tools\n",
    "llm_with_tools = llm.bind_tools([multiply])\n",
    "\n",
    "#Invoke the llm that may invoke tool call\n",
    "msg = llm_with_tools.invoke(\"What is 5 times 6\")\n",
    "\n",
    "#tool call\n",
    "msg.tool_calls"
   ]
  },
  {
   "cell_type": "markdown",
   "id": "b4c10098-ccd2-40c1-9ebf-48f7ced594a0",
   "metadata": {
    "jp-MarkdownHeadingCollapsed": true
   },
   "source": [
    "## 1 - PROMPT CHAINING"
   ]
  },
  {
   "cell_type": "code",
   "execution_count": 11,
   "id": "c8eb2d4a-a5bc-4c57-b056-314ac00d1bc4",
   "metadata": {},
   "outputs": [],
   "source": [
    "from typing_extensions import TypedDict\n",
    "\n",
    "#Graph State\n",
    "class State(TypedDict):\n",
    "    topic: str\n",
    "    joke: str\n",
    "    improved_joke: str\n",
    "    final_joke: str"
   ]
  },
  {
   "cell_type": "code",
   "execution_count": 21,
   "id": "ab2aee76-ac85-404d-a013-571c544e175f",
   "metadata": {},
   "outputs": [],
   "source": [
    "#Nodes\n",
    "def generate_joke(state: State):\n",
    "    msg = llm.invoke(f\"Write a short joke about: {state['topic']}\")\n",
    "    return {\"joke\":msg.content}\n",
    "\n",
    "def improve_joke(state: State):\n",
    "    msg = llm.invoke(f\"Make this joke funnier by adding wordplay: {state['joke']}\")\n",
    "    return {\"improved_joke\":msg.content}\n",
    "\n",
    "def polish_joke(state: State):\n",
    "    msg = llm.invoke(f\"Add a surprising twist to this joke: {state['improved_joke']}\")\n",
    "    return {\"final_joke\":msg.content}\n",
    "\n",
    "def check_punchline(state: State):\n",
    "    if \"?\" in state[\"joke\"] or \"!\" in state[\"joke\"]:\n",
    "        return \"Pass\"\n",
    "    return \"Fail\""
   ]
  },
  {
   "cell_type": "code",
   "execution_count": 23,
   "id": "598aec95-77af-414f-9fab-6d548a59fd69",
   "metadata": {},
   "outputs": [
    {
     "data": {
      "image/png": "[encoded data removed]",
      "text/plain": [
       "<IPython.core.display.Image object>"
      ]
     },
     "metadata": {},
     "output_type": "display_data"
    }
   ],
   "source": [
    "from langgraph.graph import StateGraph, START, END\n",
    "from IPython.display import Image, display\n",
    "\n",
    "#Build Workflow\n",
    "workflow = StateGraph(State)\n",
    "\n",
    "# Add Nodes\n",
    "workflow.add_node(\"generate_joke\",generate_joke)\n",
    "workflow.add_node(\"improve_joke\",improve_joke)\n",
    "workflow.add_node(\"polish_joke\",polish_joke)\n",
    "\n",
    "# Add Edges\n",
    "workflow.add_edge(START,\"generate_joke\")\n",
    "workflow.add_conditional_edges(\"generate_joke\",check_punchline,{\"Pass\":\"improve_joke\",\"Fail\":END})\n",
    "workflow.add_edge(\"improve_joke\",\"polish_joke\")\n",
    "workflow.add_edge(\"polish_joke\",END)\n",
    "\n",
    "#Compile\n",
    "chain = workflow.compile()\n",
    "\n",
    "#show workflow\n",
    "display(Image(chain.get_graph().draw_mermaid_png()))"
   ]
  },
  {
   "cell_type": "code",
   "execution_count": 27,
   "id": "892bf75b-0075-46e9-a259-5fb251bf8092",
   "metadata": {},
   "outputs": [
    {
     "name": "stdout",
     "output_type": "stream",
     "text": [
      "Initial Joke: \n",
      "Here's a short cat joke:\n",
      "\n",
      "Why don't cats like online shopping?\n",
      "\n",
      "They prefer a cat-alog!\n",
      "\n",
      " ------------------ \n",
      "\n",
      "Improved Joke:  Here's the joke with added wordplay:\n",
      "\n",
      "Why don't cats like online shopping?\n",
      "\n",
      "They prefer a cat-alog! The internet just isn't their purr-furred method, and they think digital shopping is a cat-astrophe. Plus, they can't help but paws when they see a good meow-gazine!\n",
      "\n",
      "The added puns (purr-furred, cat-astrophe, paws/pause, meow-gazine) build on the original cat-alog wordplay while keeping the same theme of shopping and cats.\n",
      "Final Joke:  Here's the joke with a surprising twist:\n",
      "\n",
      "Why don't cats like online shopping?\n",
      "\n",
      "They prefer a cat-alog! The internet just isn't their purr-furred method, and they think digital shopping is a cat-astrophe. Plus, they can't help but paws when they see a good meow-gazine!\n",
      "\n",
      "...But the real reason? They got scammed by a doggy website claiming to sell premium catnip! Now they're convinced the whole internet is run by canine conspirators trying to em-bark on cyber warfare.\n",
      "\n",
      "The twist subverts expectations by introducing a silly conspiracy theory angle, playing on the classic cats vs. dogs rivalry while adding new wordplay (em-bark). It transforms the simple shopping preference joke into an absurd tale of feline paranoia.\n"
     ]
    }
   ],
   "source": [
    "state = chain.invoke({\"topic\":\"cats\"})\n",
    "print(\"Initial Joke: \")\n",
    "print(state[\"joke\"])\n",
    "print(\"\\n ------------------ \\n\")\n",
    "if(\"improved_joke\" in state):\n",
    "    print(\"Improved Joke: \",state[\"improved_joke\"])\n",
    "    print(\"Final Joke: \",state[\"final_joke\"])\n",
    "else:\n",
    "    print(\"Joke failed quality gate. Lmao ded\")    "
   ]
  },
  {
   "cell_type": "markdown",
   "id": "81d5c1cf-e013-4d9a-b4cf-63da3ec80f35",
   "metadata": {
    "jp-MarkdownHeadingCollapsed": true
   },
   "source": [
    "## 2 - Parallelization"
   ]
  },
  {
   "cell_type": "code",
   "execution_count": 48,
   "id": "eec0804b-7035-4c42-b955-39311e56bd3e",
   "metadata": {},
   "outputs": [],
   "source": [
    "from typing_extensions import TypedDict\n",
    "\n",
    "#Graph State\n",
    "class State(TypedDict):\n",
    "    topic: str\n",
    "    joke: str\n",
    "    story: str\n",
    "    poem: str\n",
    "    combined_output: str"
   ]
  },
  {
   "cell_type": "code",
   "execution_count": 62,
   "id": "d4ec59c4-2eca-44cf-a189-a54517adf197",
   "metadata": {},
   "outputs": [],
   "source": [
    "#Nodes\n",
    "def call_llm_1(state: State):\n",
    "    msg = llm.invoke(f\"Write a joke about {state['topic']}\")\n",
    "    return {\"joke\":msg.content}\n",
    "\n",
    "def call_llm_2(state: State):\n",
    "    msg = llm.invoke(f\"Write a story about {state['topic']}\")\n",
    "    return {\"story\":msg.content}\n",
    "\n",
    "def call_llm_3(state: State):\n",
    "    msg = llm.invoke(f\"Write a poem about {state['topic']}\")\n",
    "    return {\"poem\":msg.content}\n",
    "\n",
    "def aggregator(state: State):\n",
    "    combined = f\"Here's a story, joke, and poem about {state['topic']}!\\n\\n\"\n",
    "    combined += f\"STORY:\\n{state['story']}\\n\\n\"\n",
    "    combined += f\"JOKE:\\n{state['joke']}\\n\\n\"\n",
    "    combined += f\"POEM:\\n{state['poem']}\\n\\n\"\n",
    "    return {\"combined_output\":combined}"
   ]
  },
  {
   "cell_type": "code",
   "execution_count": 64,
   "id": "2f03f6c6-46d5-450b-844e-8d92bc7c7a01",
   "metadata": {},
   "outputs": [
    {
     "data": {
      "image/png": "[encoded data removed]",
      "text/plain": [
       "<IPython.core.display.Image object>"
      ]
     },
     "metadata": {},
     "output_type": "display_data"
    }
   ],
   "source": [
    "parallel_builder = StateGraph(State)\n",
    "\n",
    "#AddNodes\n",
    "parallel_builder.add_node(\"call_llm_1\",call_llm_1)\n",
    "parallel_builder.add_node(\"call_llm_2\",call_llm_2)\n",
    "parallel_builder.add_node(\"call_llm_3\",call_llm_3)\n",
    "parallel_builder.add_node(\"aggregator\",aggregator)\n",
    "\n",
    "#AddEdges\n",
    "parallel_builder.add_edge(START,\"call_llm_1\")\n",
    "parallel_builder.add_edge(START,\"call_llm_2\")\n",
    "parallel_builder.add_edge(START,\"call_llm_3\")\n",
    "parallel_builder.add_edge(\"call_llm_1\",\"aggregator\")\n",
    "parallel_builder.add_edge(\"call_llm_2\",\"aggregator\")\n",
    "parallel_builder.add_edge(\"call_llm_3\",\"aggregator\")\n",
    "parallel_builder.add_edge(\"aggregator\",END)\n",
    "parallel_workflow = parallel_builder.compile()\n",
    "\n",
    "# Show Workflow\n",
    "display(Image(parallel_workflow.get_graph().draw_mermaid_png()))"
   ]
  },
  {
   "cell_type": "code",
   "execution_count": 66,
   "id": "32737f0f-3f03-4d08-bfe1-dce634e1ff69",
   "metadata": {},
   "outputs": [
    {
     "name": "stdout",
     "output_type": "stream",
     "text": [
      "Here's a story, joke, and poem about cats!\n",
      "\n",
      "STORY:\n",
      "Here's a story about cats:\n",
      "\n",
      "The Unlikely Friendship\n",
      "\n",
      "Luna was a sleek black cat who lived in a cozy house at the end of Maple Street. She spent most of her days lounging in sunny windowsills and watching the world outside with her bright yellow eyes. Luna had everything she could want – comfortable cushions, plenty of toys, and a loving family – but she often felt lonely during the day when her humans were away at work.\n",
      "\n",
      "One morning, while performing her daily window watch, she noticed a scruffy orange tabby cat cautiously making his way through her garden. Unlike her well-groomed appearance, this cat's fur was slightly matted, and he had a small nick in his ear. Luna's first instinct was to hiss at the intruder, as most cats would do.\n",
      "\n",
      "However, something about the orange cat's gentle demeanor made her pause. He stopped to smell her favorite flowers – the purple petunias – just as she often did. When he noticed her watching from the window, he sat down and tilted his head curiously, his green eyes twinkling with friendly interest.\n",
      "\n",
      "Day after day, the orange cat, whom Luna nicknamed Rusty, would return to the garden. They began to communicate through the window – Luna would tap the glass with her paw, and Rusty would respond with a gentle meow. Eventually, Luna's humans noticed their daily interaction and decided to install a cat door.\n",
      "\n",
      "The first time Luna ventured out to meet Rusty face-to-face, she was nervous. But Rusty proved to be as kind as she had hoped. He showed her all the exciting things about the outdoor world – the best spots to catch sunbeams, where the most interesting insects lived, and how to climb the old oak tree in the backyard.\n",
      "\n",
      "In return, Luna invited Rusty inside on cold days, sharing her warm spots and tasty treats. Her humans fell in love with the friendly orange cat too, and soon enough, they adopted him. Now, Luna and Rusty spend their days together, proving that sometimes the best friendships come from unexpected places.\n",
      "\n",
      "They could often be found curled up together in the afternoon sun, Luna's sleek black fur contrasting with Rusty's bright orange coat, both purring contentedly. What started as a chance encounter through a window had blossomed into an inseparable bond between two very different cats.\n",
      "\n",
      "The End.\n",
      "\n",
      "This story emphasizes themes of friendship, overcoming prejudices, and the joy of companionship, all told through the perspective of cats.\n",
      "\n",
      "JOKE:\n",
      "Here's a cat joke for you:\n",
      "\n",
      "Why don't cats like online shopping?\n",
      "They prefer a cat-alog!\n",
      "\n",
      "POEM:\n",
      "Here's a poem about cats:\n",
      "\n",
      "Soft paws and whiskers, graceful and sleek,\n",
      "Mysterious creatures, so playful and chic.\n",
      "Purring contentedly on windowsills high,\n",
      "Watching the world with a curious eye.\n",
      "\n",
      "Masters of napping in patches of sun,\n",
      "Quick as a flash when they're ready to run.\n",
      "Stalking their toys with precision and care,\n",
      "Then pouncing with joy through the still evening air.\n",
      "\n",
      "Independent spirits, yet loving and sweet,\n",
      "Curling up close when it's time for a treat.\n",
      "Nighttime adventurers, kings of their space,\n",
      "Moving through shadows with elegant grace.\n",
      "\n",
      "Whether they're lounging or climbing up high,\n",
      "Or batting at strings as they lazily lie,\n",
      "These furry companions bring joy to our days,\n",
      "With their quirky and charming, endearing ways.\n",
      "\n",
      "\n"
     ]
    }
   ],
   "source": [
    "state = parallel_workflow.invoke({\"topic\":\"cats\"})\n",
    "print(state[\"combined_output\"])"
   ]
  },
  {
   "cell_type": "markdown",
   "id": "90643aad-7061-411a-b3e5-74f2f14a5636",
   "metadata": {
    "jp-MarkdownHeadingCollapsed": true
   },
   "source": [
    "## 3 - Routing"
   ]
  },
  {
   "cell_type": "code",
   "execution_count": 73,
   "id": "0f0f6d4c-8fcc-4883-a35b-34d07ef64bab",
   "metadata": {},
   "outputs": [],
   "source": [
    "from typing_extensions import Literal\n",
    "\n",
    "# Schema for structured Output to use as routing logic \n",
    "class Route(BaseModel):\n",
    "    step: Literal[\"poem\",\"story\",\"joke\"] = Field(None, description=\"The next step in routing process\")\n",
    "\n",
    "# Augmenting LLM with schema for structured Output\n",
    "router = llm.with_structured_output(Route)"
   ]
  },
  {
   "cell_type": "code",
   "execution_count": 99,
   "id": "1bf06a3c-cb75-48db-9694-a00700132739",
   "metadata": {},
   "outputs": [],
   "source": [
    "from langchain_core.messages import HumanMessage, SystemMessage\n",
    "\n",
    "# State\n",
    "class State(TypedDict):\n",
    "    input: str\n",
    "    decision: str\n",
    "    output: str\n",
    "\n",
    "def llm_call_1(state: State):\n",
    "    \"\"\"Write a poem\"\"\"\n",
    "    print(\"********Poem Tool**********\")\n",
    "    result = llm.invoke(state[\"input\"])\n",
    "    return {\"output\":result.content}\n",
    "\n",
    "def llm_call_2(state: State):\n",
    "    \"\"\"Write a joke\"\"\"\n",
    "    print(\"********Joke Tool**********\")\n",
    "    result = llm.invoke(state[\"input\"])\n",
    "    return {\"output\":result.content}\n",
    "\n",
    "def llm_call_3(state: State):\n",
    "    \"\"\"Write a story\"\"\"\n",
    "    result = llm.invoke(state[\"input\"])\n",
    "    return {\"output\":result.content}\n",
    "\n",
    "def llm_call_router(state: State):\n",
    "    \"\"\"Route the input to appropriate node\"\"\"\n",
    "    decision = router.invoke(\n",
    "        [\n",
    "            SystemMessage(\n",
    "                content = \"Route the input to story, joke or poem based on the user's request.\"\n",
    "            ),\n",
    "            \n",
    "            HumanMessage(content=state[\"input\"]),\n",
    "        ]\n",
    "    )\n",
    "    return {\"decision\":decision.step}\n",
    "\n",
    "# Conditional edge function\n",
    "def route_decision(state: State):\n",
    "    if state[\"decision\"] == \"story\":\n",
    "        return \"llm_call_3\"\n",
    "    elif state[\"decision\"] == \"joke\":\n",
    "        return \"llm_call_2\"\n",
    "    elif state[\"decision\"] == \"poem\":\n",
    "        return \"llm_call_1\""
   ]
  },
  {
   "cell_type": "code",
   "execution_count": 101,
   "id": "59f50cff-9631-4ac5-a6f1-2ac61753e07f",
   "metadata": {},
   "outputs": [
    {
     "data": {
      "image/png": "[encoded data removed]",
      "text/plain": [
       "<IPython.core.display.Image object>"
      ]
     },
     "metadata": {},
     "output_type": "display_data"
    }
   ],
   "source": [
    "# Build workflow\n",
    "router_builder = StateGraph(State)\n",
    "\n",
    "# Add nodes\n",
    "router_builder.add_node(\"llm_call_1\", llm_call_1)\n",
    "router_builder.add_node(\"llm_call_2\", llm_call_2)\n",
    "router_builder.add_node(\"llm_call_3\", llm_call_3)\n",
    "router_builder.add_node(\"llm_call_router\", llm_call_router)\n",
    "\n",
    "# Add edges to connect nodes\n",
    "router_builder.add_edge(START, \"llm_call_router\")\n",
    "router_builder.add_conditional_edges(\n",
    "    \"llm_call_router\",\n",
    "    route_decision,\n",
    "    {  # Name returned by route_decision : Name of next node to visit\n",
    "        \"llm_call_1\": \"llm_call_1\",\n",
    "        \"llm_call_2\": \"llm_call_2\",\n",
    "        \"llm_call_3\": \"llm_call_3\",\n",
    "    },\n",
    ")\n",
    "router_builder.add_edge(\"llm_call_1\", END)\n",
    "router_builder.add_edge(\"llm_call_2\", END)\n",
    "router_builder.add_edge(\"llm_call_3\", END)\n",
    "\n",
    "# Compile workflow\n",
    "router_workflow = router_builder.compile()\n",
    "\n",
    "# Show the workflow\n",
    "display(Image(router_workflow.get_graph().draw_mermaid_png()))"
   ]
  },
  {
   "cell_type": "code",
   "execution_count": 103,
   "id": "e3ecc75c-9e2e-4f6b-a645-7f051a976432",
   "metadata": {},
   "outputs": [
    {
     "name": "stdout",
     "output_type": "stream",
     "text": [
      "********Joke Tool**********\n",
      "Here's a funny fact about cats: They have a hilarious \"gravity-testing\" behavior where they deliberately push things off elevated surfaces like tables, shelves, or countertops while maintaining direct eye contact with their owners. Scientists believe they do this partly out of curiosity and partly for attention, but many cat owners joke that cats just enjoy being tiny agents of chaos. It's even funnier because they often look completely innocent and puzzled after causing the mayhem, as if to say \"How did that happen? Surely it wasn't me!\"\n"
     ]
    }
   ],
   "source": [
    "state = router_workflow.invoke({\"input\": \"Tell me something funny about cats\"})\n",
    "print(state[\"output\"])"
   ]
  },
  {
   "cell_type": "code",
   "execution_count": 105,
   "id": "d175cd15-721f-4358-b47a-bae13149cae3",
   "metadata": {},
   "outputs": [
    {
     "name": "stdout",
     "output_type": "stream",
     "text": [
      "********Poem Tool**********\n",
      "Here's a poetic description of cats:\n",
      "\n",
      "Velvet-footed shadows glide,\n",
      "Moonlit whispers, amber eyes,\n",
      "Grace embodied, lithe and fair,\n",
      "Midnight dancers without care.\n",
      "\n",
      "Masters of the twilight hour,\n",
      "Wrapped in fur of royal power,\n",
      "Silent hunters, proud and keen,\n",
      "Moving like a mystic dream.\n",
      "\n",
      "Liquid spine and satin paw,\n",
      "Nature's perfect work of art,\n",
      "Ancient wisdom in their gaze,\n",
      "Sphinx-like watchers of our days.\n",
      "\n",
      "Purring sonnets soft and low,\n",
      "Independent spirits flow,\n",
      "Half-wild souls in gentle guise,\n",
      "Keepers of sweet mysteries.\n",
      "\n",
      "Subtle rulers of our homes,\n",
      "Bearing secrets all their own,\n",
      "Regal in their quiet way,\n",
      "Dancing through both night and day.\n",
      "\n",
      "Tender when they choose to be,\n",
      "Wild when stretching to be free,\n",
      "Poetry in motion made,\n",
      "In each graceful feline blade.\n"
     ]
    }
   ],
   "source": [
    "state = router_workflow.invoke({\"input\": \"Describe cats poetically\"})\n",
    "print(state[\"output\"])"
   ]
  },
  {
   "cell_type": "markdown",
   "id": "5cf8f390-4ac5-4293-937c-c7c01117b099",
   "metadata": {
    "jp-MarkdownHeadingCollapsed": true
   },
   "source": [
    "## 4 - ORCHESTRATOR WORKER"
   ]
  },
  {
   "cell_type": "code",
   "execution_count": 111,
   "id": "7379871b-64c7-4168-9139-6337ee6b031c",
   "metadata": {},
   "outputs": [],
   "source": [
    "from typing import Annotated, List\n",
    "import operator\n",
    "\n",
    "\n",
    "# Schema for structured output to use in planning\n",
    "class Section(BaseModel):\n",
    "    name: str = Field(\n",
    "        description=\"Name for this section of the report.\",\n",
    "    )\n",
    "    description: str = Field(\n",
    "        description=\"Brief overview of the main topics and concepts to be covered in this section.\",\n",
    "    )\n",
    "\n",
    "class Sections(BaseModel):\n",
    "    sections: List[Section] = Field(\n",
    "        description=\"Sections of the report.\",\n",
    "    )\n",
    "\n",
    "# Augment the LLM with schema for structured output\n",
    "planner = llm.with_structured_output(Sections)"
   ]
  },
  {
   "cell_type": "code",
   "execution_count": 119,
   "id": "446fb12b-3ebe-4054-ad18-818669fe5922",
   "metadata": {},
   "outputs": [
    {
     "data": {
      "image/png": "[encoded data removed]",
      "text/plain": [
       "<IPython.core.display.Image object>"
      ]
     },
     "metadata": {},
     "output_type": "display_data"
    }
   ],
   "source": [
    "from langgraph.constants import Send\n",
    "\n",
    "\n",
    "# Graph state\n",
    "class State(TypedDict):\n",
    "    topic: str  # Report topic\n",
    "    sections: list[Section]  # List of report sections\n",
    "    completed_sections: Annotated[\n",
    "        list, operator.add\n",
    "    ]  # All workers write to this key in parallel\n",
    "    final_report: str  # Final report\n",
    "\n",
    "\n",
    "# Worker state\n",
    "class WorkerState(TypedDict):\n",
    "    section: Section\n",
    "    completed_sections: Annotated[list, operator.add]\n",
    "\n",
    "\n",
    "# Nodes\n",
    "def orchestrator(state: State):\n",
    "    \"\"\"Orchestrator that generates a plan for the report\"\"\"\n",
    "    # Generate queries\n",
    "    report_sections = planner.invoke(\n",
    "        [\n",
    "            SystemMessage(content=\"Generate a plan for the report.\"),\n",
    "            HumanMessage(content=f\"Here is the report topic: {state['topic']}\"),\n",
    "        ]\n",
    "    )\n",
    "    return {\"sections\": report_sections.sections}\n",
    "\n",
    "\n",
    "def llm_call(state: WorkerState):\n",
    "    \"\"\"Worker writes a section of the report\"\"\"\n",
    "    # Generate section\n",
    "    section = llm.invoke(\n",
    "        [\n",
    "            SystemMessage(\n",
    "                content=\"Write a report section following the provided name and description. Include no preamble for each section. Use markdown formatting.\"\n",
    "            ),\n",
    "            HumanMessage(\n",
    "                content=f\"Here is the section name: {state['section'].name} and description: {state['section'].description}\"\n",
    "            ),\n",
    "        ]\n",
    "    )\n",
    "    # Write the updated section to completed sections\n",
    "    return {\"completed_sections\": [section.content]}\n",
    "\n",
    "\n",
    "def synthesizer(state: State):\n",
    "    \"\"\"Synthesize full report from sections\"\"\"\n",
    "    # List of completed sections\n",
    "    completed_sections = state[\"completed_sections\"]\n",
    "    # Format completed section to str to use as context for final sections\n",
    "    completed_report_sections = \"\\n\\n---\\n\\n\".join(completed_sections)\n",
    "    return {\"final_report\": completed_report_sections}\n",
    "\n",
    "\n",
    "# Conditional edge function to create llm_call workers that each write a section of the report\n",
    "def assign_workers(state: State):\n",
    "    \"\"\"Assign a worker to each section in the plan\"\"\"\n",
    "    # Kick off section writing in parallel via Send() API\n",
    "    return [Send(\"llm_call\", {\"section\": s}) for s in state[\"sections\"]]\n",
    "\n",
    "\n",
    "# Build workflow\n",
    "orchestrator_worker_builder = StateGraph(State)\n",
    "\n",
    "# Add the nodes\n",
    "orchestrator_worker_builder.add_node(\"orchestrator\", orchestrator)\n",
    "orchestrator_worker_builder.add_node(\"llm_call\", llm_call)\n",
    "orchestrator_worker_builder.add_node(\"synthesizer\", synthesizer)\n",
    "\n",
    "# Add edges to connect nodes\n",
    "orchestrator_worker_builder.add_edge(START, \"orchestrator\")\n",
    "orchestrator_worker_builder.add_conditional_edges(\n",
    "    \"orchestrator\", assign_workers, [\"llm_call\"]\n",
    ")\n",
    "orchestrator_worker_builder.add_edge(\"llm_call\", \"synthesizer\")\n",
    "orchestrator_worker_builder.add_edge(\"synthesizer\", END)\n",
    "\n",
    "# Compile the workflow\n",
    "orchestrator_worker = orchestrator_worker_builder.compile()\n",
    "\n",
    "# Show the workflow\n",
    "display(Image(orchestrator_worker.get_graph().draw_mermaid_png()))"
   ]
  },
  {
   "cell_type": "code",
   "execution_count": 121,
   "id": "6fb9eced-85d8-4c76-ad5b-b51123aaa5f4",
   "metadata": {},
   "outputs": [],
   "source": [
    "# Invoke\n",
    "state = orchestrator_worker.invoke({\"topic\": \"Create a report on LLM scaling laws\"})"
   ]
  },
  {
   "cell_type": "code",
   "execution_count": 122,
   "id": "36bd616a-5c47-4c1b-9e45-bac0b9b4c84d",
   "metadata": {},
   "outputs": [
    {
     "data": {
      "text/plain": [
       "[Section(name='Introduction to LLM Scaling Laws', description='Overview of what scaling laws are in the context of Large Language Models, their importance in AI research, and historical background of key scaling studies.'),\n",
       " Section(name='Fundamental Scaling Relationships', description='Detailed examination of core scaling laws including compute-optimal scaling, parameter scaling, dataset scaling, and their mathematical foundations as established by seminal papers like Kaplan et al.'),\n",
       " Section(name='Empirical Evidence and Major Studies', description='Analysis of key experimental studies that validate scaling laws, including results from OpenAI, DeepMind, and other research institutions, with actual performance measurements and trends.'),\n",
       " Section(name='Scaling Limitations and Challenges', description='Discussion of practical constraints in scaling LLMs, including computational resources, energy requirements, data quality issues, and potential diminishing returns.'),\n",
       " Section(name='Economic and Infrastructure Implications', description='Exploration of the economic aspects of scaling, including training costs, hardware requirements, and infrastructure needs for different scales of language models.'),\n",
       " Section(name='Future Directions and Alternative Approaches', description='Analysis of emerging trends in scaling research, alternative architectures, and potential new directions for achieving better performance without purely scaling up.'),\n",
       " Section(name='Conclusion and Industry Impact', description='Summary of key findings, implications for AI development, and how scaling laws influence industry decisions and research directions.')]"
      ]
     },
     "execution_count": 122,
     "metadata": {},
     "output_type": "execute_result"
    }
   ],
   "source": [
    "state[\"sections\"]"
   ]
  },
  {
   "cell_type": "code",
   "execution_count": 125,
   "id": "2d9f9fa6-121c-4e18-88d5-ff2076d75559",
   "metadata": {},
   "outputs": [
    {
     "data": {
      "text/markdown": [
       "## Introduction to LLM Scaling Laws\n",
       "\n",
       "Scaling laws describe systematic relationships between a language model's performance and key variables like model size, dataset size, and compute resources. These mathematical patterns show how model capabilities improve as these factors increase, typically following power law relationships.\n",
       "\n",
       "Key aspects of LLM scaling laws include:\n",
       "\n",
       "- **Model Size**: Performance improves smoothly with increased parameter count\n",
       "- **Training Data**: Larger datasets enable better performance, with diminishing returns\n",
       "- **Compute**: Training compute requirements grow with model size and data volume\n",
       "- **Loss Curves**: Training and test loss follow predictable power law curves\n",
       "\n",
       "Historical development of scaling research:\n",
       "\n",
       "- 2018: OpenAI's initial work on transformer scaling behavior\n",
       "- 2020: Kaplan et al. published seminal \"Scaling Laws for Neural Language Models\"\n",
       "- 2022: Chinchilla paper revised optimal compute allocation theories\n",
       "- 2023: Scaling studies extended to instruction-tuned and multimodal models\n",
       "\n",
       "Practical implications:\n",
       "\n",
       "- Guides efficient resource allocation for training\n",
       "- Enables performance prediction for larger models\n",
       "- Informs hardware and infrastructure requirements\n",
       "- Helps optimize model architecture decisions\n",
       "\n",
       "Limitations and open questions:\n",
       "\n",
       "- Unclear applicability to emergent capabilities\n",
       "- Potential deviation at extreme scales\n",
       "- Environmental and computational constraints\n",
       "- Need for new scaling laws for specialized architectures\n",
       "\n",
       "---\n",
       "\n",
       "## Fundamental Scaling Relationships\n",
       "\n",
       "### Compute-Optimal Scaling\n",
       "\n",
       "- Empirically validated relationship between compute budget (C) and optimal model size (N):\n",
       "  - N ∝ C^(0.73)\n",
       "  - Holds across multiple orders of magnitude of compute\n",
       "  - First established in Kaplan et al. (2020)\n",
       "\n",
       "### Parameter Scaling\n",
       "\n",
       "- Model performance improves predictably with parameter count:\n",
       "  - Loss = α(N^(-0.076)), where N is number of parameters\n",
       "  - Diminishing returns follow power law relationship\n",
       "- Critical parameter thresholds identified:\n",
       "  - Emergence of capabilities at specific scale points\n",
       "  - Smooth scaling between capability jumps\n",
       "\n",
       "### Dataset Scaling\n",
       "\n",
       "- Training dataset size (D) scales with model parameters:\n",
       "  - Optimal D ∝ N^(0.74)\n",
       "  - Insufficient data leads to premature saturation\n",
       "  - Excess data wastes compute without benefit\n",
       "\n",
       "### Mathematical Foundations\n",
       "\n",
       "- Power law relationships dominate scaling behavior:\n",
       "  - Loss = α(C^(-0.050)) for compute\n",
       "  - Loss = α(D^(-0.095)) for dataset size\n",
       "- Scaling coefficients remain consistent across:\n",
       "  - Model architectures\n",
       "  - Training objectives\n",
       "  - Domain applications\n",
       "\n",
       "### Interdependent Scaling Factors\n",
       "\n",
       "- Optimal scaling requires balanced growth across:\n",
       "  - Model parameters\n",
       "  - Dataset size\n",
       "  - Compute budget\n",
       "  - Training steps\n",
       "- Sub-optimal allocation reduces efficiency:\n",
       "  - Bottlenecks from any single factor\n",
       "  - Waste from oversized resources\n",
       "\n",
       "### Practical Implications\n",
       "\n",
       "- Guides resource allocation for training\n",
       "- Enables accurate performance prediction\n",
       "- Informs hardware requirements\n",
       "- Supports cost-benefit analysis\n",
       "- Helps identify efficiency opportunities\n",
       "\n",
       "### Limitations and Constraints\n",
       "\n",
       "- Economic constraints on compute growth\n",
       "- Dataset quality versus quantity tradeoffs\n",
       "- Architecture-specific deviations\n",
       "- Emergence of new scaling regimes at extreme scale\n",
       "\n",
       "---\n",
       "\n",
       "## Empirical Evidence and Major Studies\n",
       "\n",
       "Several landmark studies have provided strong empirical validation of neural network scaling laws:\n",
       "\n",
       "### OpenAI's Language Model Studies\n",
       "- Demonstrated consistent power-law relationships between model size and performance\n",
       "- GPT-3 (175B parameters) empirically validated predictions about loss scaling\n",
       "- Found that loss decreases smoothly as compute and dataset size increase\n",
       "- Identified optimal model size scales with available compute as: N ∝ C^(0.7-0.8)\n",
       "\n",
       "### Anthropic's Parameter Scaling Research\n",
       "- Investigated scaling behavior across 100+ language models\n",
       "- Confirmed performance follows power law: Loss ∝ N^(-0.076)\n",
       "- Discovered diminishing returns begin around 10^23 FLOPs\n",
       "- Validated cross-entropy loss predictions across multiple architectures\n",
       "\n",
       "### DeepMind's Scaling Studies\n",
       "- Chinchilla (70B parameters) demonstrated optimal parameter/data balance\n",
       "- Found many models were overparameterized relative to training data\n",
       "- Established relationship: Optimal parameter count ∝ Training tokens\n",
       "- Showed compute-optimal training uses equal compute for parameters and data\n",
       "\n",
       "### Google's Pathway Language Model Research\n",
       "- PaLM (540B parameters) confirmed predicted scaling benefits\n",
       "- Demonstrated consistent improvements across 540+ tasks\n",
       "- Validated transfer learning advantages of larger models\n",
       "- Showed enhanced performance on reasoning and mathematics\n",
       "\n",
       "### Key Performance Measurements\n",
       "- Pre-training loss reduction: 2.1-2.5x per 10x parameter increase\n",
       "- Downstream task improvements: 1.5-2x per 10x compute increase \n",
       "- Consistent scaling across model architectures (Transformers, MLP-Mixers)\n",
       "- Lower bounds on model size needed for specific capabilities\n",
       "\n",
       "### Limitations and Caveats\n",
       "- Scaling laws break down at computational extremes\n",
       "- Architecture-specific variations in exact scaling coefficients\n",
       "- Environmental/computational costs of validation at scale\n",
       "- Difficulty measuring sparse model performance\n",
       "\n",
       "These empirical results have been instrumental in guiding model development and validating theoretical predictions about neural network scaling behavior.\n",
       "\n",
       "---\n",
       "\n",
       "## Scaling Limitations and Challenges\n",
       "\n",
       "### Computational Resources\n",
       "- Training modern LLMs requires massive computing infrastructure\n",
       "- High-end GPUs/TPUs cost millions of dollars\n",
       "- Limited availability of specialized AI hardware\n",
       "- Memory constraints for model parameters and training data\n",
       "- Complex distributed computing requirements for large-scale training\n",
       "\n",
       "### Energy Requirements\n",
       "- Training large models consumes substantial electricity\n",
       "- GPT-3 training estimated at 1,287 MWh (equivalent to 120+ US homes' annual usage)\n",
       "- Environmental concerns regarding carbon footprint\n",
       "- Cooling requirements for data centers add additional energy overhead\n",
       "- Inference costs scale with model deployment and usage\n",
       "\n",
       "### Data Quality Issues\n",
       "- High-quality training data becoming scarcer\n",
       "- Increased presence of synthetic/AI-generated content online\n",
       "- Data cleaning and filtering costs rising\n",
       "- Language coverage gaps for non-English content\n",
       "- Challenges with data privacy and licensing\n",
       "- Risk of training on biased or inappropriate content\n",
       "\n",
       "### Diminishing Returns\n",
       "- Empirical evidence suggests sublinear scaling of capabilities\n",
       "- Doubling parameters yields smaller improvements over time\n",
       "- Cost-to-benefit ratio becoming less favorable\n",
       "- Architectural innovations may be needed over pure scaling\n",
       "- Limited gains in reasoning and knowledge beyond certain scale\n",
       "- Potential fundamental limits to current architectural approaches\n",
       "\n",
       "### Infrastructure Bottlenecks  \n",
       "- Network bandwidth constraints for distributed training\n",
       "- Storage requirements for checkpoints and training data\n",
       "- Engineering complexity of maintaining large clusters\n",
       "- Limited pool of experts capable of training large models\n",
       "- High operational costs for extended training runs\n",
       "\n",
       "---\n",
       "\n",
       "## Economic and Infrastructure Implications\n",
       "\n",
       "### Training Costs\n",
       "- Pre-training costs for large language models range from millions to hundreds of millions of dollars\n",
       "- GPT-3 175B estimated training cost: $4.6M-$12M\n",
       "- Costs scale approximately linearly with model size\n",
       "- Significant electricity consumption during training: 1,287 MWh for GPT-3\n",
       "\n",
       "### Hardware Requirements\n",
       "- Specialized GPU/TPU clusters needed for training\n",
       "- Memory requirements increase with model size:\n",
       "  - 3B parameter model: ~6GB GPU memory\n",
       "  - 175B parameter model: ~350GB GPU memory\n",
       "- High-bandwidth interconnects required between compute nodes\n",
       "- Significant cooling infrastructure needed for large clusters\n",
       "\n",
       "### Infrastructure Needs\n",
       "- Distributed computing systems essential for large models\n",
       "- Data center specifications:\n",
       "  - High-power density racks (15-30 kW per rack)\n",
       "  - Redundant power supplies\n",
       "  - Advanced cooling systems\n",
       "  - High-speed networking (400Gbps+ interconnects)\n",
       "\n",
       "### Operational Considerations\n",
       "- Continuous maintenance and hardware replacement costs\n",
       "- System redundancy requirements\n",
       "- Network bandwidth for model deployment\n",
       "- Storage infrastructure for training data and checkpoints\n",
       "\n",
       "### Cost Optimization Strategies\n",
       "- Mixed precision training\n",
       "- Model parallelism\n",
       "- Efficient architecture designs\n",
       "- Cloud vs. on-premises infrastructure tradeoffs\n",
       "- Resource sharing and scheduling optimization\n",
       "\n",
       "### Environmental Impact\n",
       "- Carbon footprint of training large models\n",
       "- Energy efficiency considerations\n",
       "- Sustainable computing practices\n",
       "- Green energy sourcing opportunities\n",
       "\n",
       "---\n",
       "\n",
       "## Future Directions and Alternative Approaches\n",
       "\n",
       "### Alternative Architectures\n",
       "- Sparse neural networks that selectively activate only relevant pathways\n",
       "- Mixture-of-experts architectures distributing computation across specialized sub-networks\n",
       "- Neural circuit-inspired architectures incorporating biological principles\n",
       "- Hybrid architectures combining different model types (transformers, CNNs, RNNs)\n",
       "\n",
       "### Emerging Scaling Approaches\n",
       "- Parameter-efficient fine-tuning methods (LoRA, prefix tuning)\n",
       "- Model compression and pruning techniques\n",
       "- Knowledge distillation to create smaller, specialized models\n",
       "- Conditional computation to dynamically allocate resources\n",
       "\n",
       "### Novel Training Methods\n",
       "- Few-shot and zero-shot learning to reduce data requirements\n",
       "- Continual learning approaches to incrementally update models\n",
       "- Meta-learning techniques for faster adaptation\n",
       "- Self-supervised and semi-supervised learning strategies\n",
       "\n",
       "### Hardware-Aware Optimization\n",
       "- Custom neural processing units (NPUs)\n",
       "- Analog and photonic computing\n",
       "- Neuromorphic hardware designs\n",
       "- Edge computing optimization\n",
       "\n",
       "### Beyond Pure Scale\n",
       "- Multi-modal reasoning capabilities\n",
       "- Improved architectural inductive biases\n",
       "- Enhanced interpretability and control\n",
       "- Integration of symbolic and neural approaches\n",
       "\n",
       "### Quality-Focused Development\n",
       "- Better evaluation metrics beyond scale\n",
       "- Robustness and reliability improvements\n",
       "- Reduced environmental impact\n",
       "- Enhanced safety and alignment methods\n",
       "\n",
       "---\n",
       "\n",
       "## Conclusion and Industry Impact\n",
       "\n",
       "- Scaling laws demonstrate predictable relationships between model performance, compute resources, and dataset size, enabling strategic planning for AI development\n",
       "\n",
       "- Key findings show that model capabilities follow power-law scaling patterns, with diminishing returns at extreme scales\n",
       "\n",
       "- Industry implications:\n",
       "  - Resource allocation optimization between model size, training data, and compute\n",
       "  - Better cost-benefit analysis for training large models\n",
       "  - Informed decision-making on infrastructure investments\n",
       "\n",
       "- Research directions influenced by scaling laws:\n",
       "  - Focus on architectural improvements to achieve better scaling efficiency\n",
       "  - Emphasis on data quality and curation over raw quantity\n",
       "  - Investigation of emergent capabilities at specific scale thresholds\n",
       "\n",
       "- Practical considerations for AI companies:\n",
       "  - Trade-offs between model size and deployment costs\n",
       "  - Environmental impact of large-scale training\n",
       "  - Competitive dynamics between small and large players\n",
       "\n",
       "- Future outlook:\n",
       "  - Continued importance of scaling in advancing AI capabilities\n",
       "  - Growing emphasis on efficient scaling techniques\n",
       "  - Potential for breakthrough architectures that alter current scaling patterns"
      ],
      "text/plain": [
       "<IPython.core.display.Markdown object>"
      ]
     },
     "execution_count": 125,
     "metadata": {},
     "output_type": "execute_result"
    }
   ],
   "source": [
    "from IPython.display import Markdown\n",
    "Markdown(state[\"final_report\"])"
   ]
  },
  {
   "cell_type": "markdown",
   "id": "e7293eb0-46b6-4ace-9f34-302789de761a",
   "metadata": {
    "jp-MarkdownHeadingCollapsed": true
   },
   "source": [
    "## 5 - EVALUATOR OPTIMIZER"
   ]
  },
  {
   "cell_type": "code",
   "execution_count": 134,
   "id": "865ad137-6903-48ef-a5c7-cd1917a21231",
   "metadata": {},
   "outputs": [],
   "source": [
    "class State(TypedDict):\n",
    "    joke: str\n",
    "    topic: str\n",
    "    feedback: str\n",
    "    funny_or_not: str\n",
    "\n",
    "\n",
    "# Schema for structured output to use in evaluation\n",
    "class Feedback(BaseModel):\n",
    "    grade: Literal[\"funny\", \"not funny\"] = Field(\n",
    "        description=\"Decide if the joke is funny or not.\",\n",
    "    )\n",
    "    feedback: str = Field(\n",
    "        description=\"If the joke is not funny, provide feedback on how to improve it.\",\n",
    "    )\n",
    "# Augment the LLM with schema for structured output\n",
    "evaluator = llm.with_structured_output(Feedback)"
   ]
  },
  {
   "cell_type": "code",
   "execution_count": 136,
   "id": "e71caea4-7d50-4c7c-ab47-89cb0edb3cc6",
   "metadata": {},
   "outputs": [],
   "source": [
    "# Nodes\n",
    "def llm_call_generator(state: State):\n",
    "    \"\"\"LLM generates a joke\"\"\"\n",
    "    if state.get(\"feedback\"):\n",
    "        msg = llm.invoke(\n",
    "            f\"Write a joke about {state['topic']} but take into account the feedback: {state['feedback']}\"\n",
    "        )\n",
    "    else:\n",
    "        msg = llm.invoke(f\"Write a joke about {state['topic']}\")\n",
    "    return {\"joke\": msg.content}\n",
    "\n",
    "\n",
    "def llm_call_evaluator(state: State):\n",
    "    \"\"\"LLM evaluates the joke\"\"\"\n",
    "    grade = evaluator.invoke(f\"Grade the joke {state['joke']}\")\n",
    "    return {\"funny_or_not\": grade.grade, \"feedback\": grade.feedback}\n",
    "    \n",
    "# Conditional edge function to route back to joke generator or end based upon feedback from the evaluator\n",
    "def route_joke(state: State):\n",
    "    \"\"\"Route back to joke generator or end based upon feedback from the evaluator\"\"\"\n",
    "\n",
    "    if state[\"funny_or_not\"] == \"funny\":\n",
    "        return \"Accepted\"\n",
    "    elif state[\"funny_or_not\"] == \"not funny\":\n",
    "        return \"Rejected + Feedback\""
   ]
  },
  {
   "cell_type": "code",
   "execution_count": 138,
   "id": "c702a6ef-39c4-4d8a-a2f8-4e7a8157e7b0",
   "metadata": {},
   "outputs": [
    {
     "data": {
      "image/png": "[encoded data removed]",
      "text/plain": [
       "<IPython.core.display.Image object>"
      ]
     },
     "metadata": {},
     "output_type": "display_data"
    }
   ],
   "source": [
    "# Build workflow\n",
    "optimizer_builder = StateGraph(State)\n",
    "\n",
    "# Add the nodes\n",
    "optimizer_builder.add_node(\"llm_call_generator\", llm_call_generator)\n",
    "optimizer_builder.add_node(\"llm_call_evaluator\", llm_call_evaluator)\n",
    "\n",
    "# Add edges to connect nodes\n",
    "optimizer_builder.add_edge(START, \"llm_call_generator\")\n",
    "optimizer_builder.add_edge(\"llm_call_generator\", \"llm_call_evaluator\")\n",
    "optimizer_builder.add_conditional_edges(\n",
    "    \"llm_call_evaluator\",\n",
    "    route_joke,\n",
    "    {  # Name returned by route_joke : Name of next node to visit\n",
    "        \"Accepted\": END,\n",
    "        \"Rejected + Feedback\": \"llm_call_generator\",\n",
    "    },\n",
    ")\n",
    "\n",
    "# Compile the workflow\n",
    "optimizer_workflow = optimizer_builder.compile()\n",
    "\n",
    "# Show the workflow\n",
    "display(Image(optimizer_workflow.get_graph().draw_mermaid_png()))"
   ]
  },
  {
   "cell_type": "code",
   "execution_count": 140,
   "id": "51b75a7b-72ff-4fc7-af8c-d8bc267826ee",
   "metadata": {},
   "outputs": [
    {
     "name": "stdout",
     "output_type": "stream",
     "text": [
      "Here's a cat joke for you:\n",
      "\n",
      "Why don't cats like online shopping?\n",
      "\n",
      "They prefer a cat-alog!\n",
      "\n",
      "(Get it? Catalog/cat-alog! 😺)\n"
     ]
    }
   ],
   "source": [
    "# Invoke\n",
    "state = optimizer_workflow.invoke({\"topic\": \"Cats\"})\n",
    "print(state[\"joke\"])"
   ]
  },
  {
   "cell_type": "code",
   "execution_count": 141,
   "id": "5cef5790-ca62-4085-9aef-fd10a3fb99df",
   "metadata": {},
   "outputs": [
    {
     "name": "stdout",
     "output_type": "stream",
     "text": [
      "This is a clever play on words that works on multiple levels. It uses the word \"catalog\" and splits it into \"cat-alog\" to create a pun that's relevant to cats. The setup also makes sense because it references modern online shopping contrasted with traditional catalogs. The emoji adds a cute touch that enhances the cat theme. It's a clean, family-friendly joke that's both witty and accessible.\n"
     ]
    }
   ],
   "source": [
    "print(state[\"feedback\"])"
   ]
  },
  {
   "cell_type": "code",
   "execution_count": 144,
   "id": "772f0aaf-5989-4892-ad37-74cd0a703149",
   "metadata": {},
   "outputs": [
    {
     "name": "stdout",
     "output_type": "stream",
     "text": [
      "funny\n"
     ]
    }
   ],
   "source": [
    "print(state[\"funny_or_not\"])"
   ]
  },
  {
   "cell_type": "markdown",
   "id": "d49e83b1-6480-48d5-aa98-96dbfda1cdd4",
   "metadata": {
    "jp-MarkdownHeadingCollapsed": true
   },
   "source": [
    "## 6 - Finally,  AGENTS!!"
   ]
  },
  {
   "cell_type": "code",
   "execution_count": 149,
   "id": "4fea9ac6-c7d3-4c31-9e0d-2a24bc3d0be5",
   "metadata": {},
   "outputs": [],
   "source": [
    "from langchain_core.tools import tool\n",
    "\n",
    "# Define tools\n",
    "@tool\n",
    "def multiply(a: int, b: int) -> int:\n",
    "    \"\"\"Multiply a and b.\n",
    "\n",
    "    Args:\n",
    "        a: first int\n",
    "        b: second int\n",
    "    \"\"\"\n",
    "    return a * b\n",
    "\n",
    "@tool\n",
    "def add(a: int, b: int) -> int:\n",
    "    \"\"\"Adds a and b.\n",
    "\n",
    "    Args:\n",
    "        a: first int\n",
    "        b: second int\n",
    "    \"\"\"\n",
    "    return a + b\n",
    "\n",
    "@tool\n",
    "def divide(a: int, b: int) -> float:\n",
    "    \"\"\"Divide a and b.\n",
    "\n",
    "    Args:\n",
    "        a: first int\n",
    "        b: second int\n",
    "    \"\"\"\n",
    "    return a / b\n",
    "\n",
    "# Augment the LLM with tools\n",
    "tools = [add, multiply, divide]\n",
    "tools_by_name = {tool.name: tool for tool in tools}\n",
    "llm_with_tools = llm.bind_tools(tools)"
   ]
  },
  {
   "cell_type": "code",
   "execution_count": 153,
   "id": "5ec71046-9ae8-45c4-9221-5aaffc5fce7d",
   "metadata": {},
   "outputs": [],
   "source": [
    "from langgraph.graph import MessagesState\n",
    "from langchain_core.messages import SystemMessage, HumanMessage, ToolMessage\n",
    "\n",
    "\n",
    "# Nodes\n",
    "def llm_call(state: MessagesState):\n",
    "    \"\"\"LLM decides whether to call a tool or not\"\"\"\n",
    "    return {\n",
    "        \"messages\": [\n",
    "            llm_with_tools.invoke(\n",
    "                [\n",
    "                    SystemMessage(\n",
    "                        content=\"You are a helpful assistant tasked with performing arithmetic on a set of inputs.\"\n",
    "                    )\n",
    "                ]\n",
    "                + state[\"messages\"]\n",
    "            )\n",
    "        ]\n",
    "    }\n",
    "\n",
    "\n",
    "def tool_node(state: dict):\n",
    "    \"\"\"Performs the tool call\"\"\"\n",
    "\n",
    "    result = []\n",
    "    for tool_call in state[\"messages\"][-1].tool_calls:\n",
    "        tool = tools_by_name[tool_call[\"name\"]]\n",
    "        observation = tool.invoke(tool_call[\"args\"])\n",
    "        result.append(ToolMessage(content=observation, tool_call_id=tool_call[\"id\"]))\n",
    "    return {\"messages\": result}\n",
    "\n",
    "\n",
    "# Conditional edge function to route to the tool node or end based upon whether the LLM made a tool call\n",
    "def should_continue(state: MessagesState) -> Literal[\"environment\", END]:\n",
    "    \"\"\"Decide if we should continue the loop or stop based upon whether the LLM made a tool call\"\"\"\n",
    "\n",
    "    messages = state[\"messages\"]\n",
    "    last_message = messages[-1]\n",
    "    # If the LLM makes a tool call, then perform an action\n",
    "    if last_message.tool_calls:\n",
    "        return \"Action\"\n",
    "    # Otherwise, we stop (reply to the user)\n",
    "    return END\n"
   ]
  },
  {
   "cell_type": "code",
   "execution_count": 155,
   "id": "23793eac-9b9c-4c06-bf86-a29c8c0f083d",
   "metadata": {},
   "outputs": [
    {
     "data": {
      "image/png": "[encoded data removed]",
      "text/plain": [
       "<IPython.core.display.Image object>"
      ]
     },
     "metadata": {},
     "output_type": "display_data"
    }
   ],
   "source": [
    "# Build workflow\n",
    "agent_builder = StateGraph(MessagesState)\n",
    "# Add nodes\n",
    "agent_builder.add_node(\"llm_call\", llm_call)\n",
    "agent_builder.add_node(\"environment\", tool_node)\n",
    "\n",
    "# Add edges to connect nodes\n",
    "agent_builder.add_edge(START, \"llm_call\")\n",
    "agent_builder.add_conditional_edges(\n",
    "    \"llm_call\",\n",
    "    should_continue,\n",
    "    {\n",
    "        # Name returned by should_continue : Name of next node to visit\n",
    "        \"Action\": \"environment\",\n",
    "        END: END,\n",
    "    },\n",
    ")\n",
    "agent_builder.add_edge(\"environment\", \"llm_call\")\n",
    "\n",
    "# Compile the agent\n",
    "agent = agent_builder.compile()\n",
    "\n",
    "# Show the agent\n",
    "display(Image(agent.get_graph(xray=True).draw_mermaid_png()))"
   ]
  },
  {
   "cell_type": "code",
   "execution_count": 159,
   "id": "57dc1f80-9ec4-4224-bfb6-c731a499bd91",
   "metadata": {},
   "outputs": [
    {
     "name": "stdout",
     "output_type": "stream",
     "text": [
      "================================\u001b[1m Human Message \u001b[0m=================================\n",
      "\n",
      "Add 3 and 4. Then multiply by 7\n",
      "==================================\u001b[1m Ai Message \u001b[0m==================================\n",
      "\n",
      "[{'text': \"I'll help you with that calculation. Let's break it down into steps:\\n\\n1. First, let's add 3 and 4:\", 'type': 'text'}, {'id': 'toolu_01XL19sihAhg8YzhFS4XesEr', 'input': {'a': 3, 'b': 4}, 'name': 'add', 'type': 'tool_use'}]\n",
      "Tool Calls:\n",
      "  add (toolu_01XL19sihAhg8YzhFS4XesEr)\n",
      " Call ID: toolu_01XL19sihAhg8YzhFS4XesEr\n",
      "  Args:\n",
      "    a: 3\n",
      "    b: 4\n",
      "=================================\u001b[1m Tool Message \u001b[0m=================================\n",
      "\n",
      "7\n",
      "==================================\u001b[1m Ai Message \u001b[0m==================================\n",
      "\n",
      "[{'text': \"2. Now, let's multiply the result (7) by 7:\", 'type': 'text'}, {'id': 'toolu_01UaD5eomCv3Bqzcwbdqu7UC', 'input': {'a': 7, 'b': 7}, 'name': 'multiply', 'type': 'tool_use'}]\n",
      "Tool Calls:\n",
      "  multiply (toolu_01UaD5eomCv3Bqzcwbdqu7UC)\n",
      " Call ID: toolu_01UaD5eomCv3Bqzcwbdqu7UC\n",
      "  Args:\n",
      "    a: 7\n",
      "    b: 7\n",
      "=================================\u001b[1m Tool Message \u001b[0m=================================\n",
      "\n",
      "49\n",
      "==================================\u001b[1m Ai Message \u001b[0m==================================\n",
      "\n",
      "The final result is 49.\n"
     ]
    }
   ],
   "source": [
    "# Invoke\n",
    "messages = [HumanMessage(content=\"Add 3 and 4. Then multiply by 7\")]\n",
    "messages = agent.invoke({\"messages\": messages})\n",
    "for m in messages[\"messages\"]:\n",
    "    m.pretty_print()"
   ]
  },
  {
   "cell_type": "markdown",
   "id": "0d635d08-862c-4bb2-8ad1-44271a49123c",
   "metadata": {},
   "source": [
    "# Hierarchial Multi-Agent System"
   ]
  },
  {
   "cell_type": "markdown",
   "id": "a862bb1d-f76b-49a4-94c3-771152d03be7",
   "metadata": {},
   "source": [
    "### B - Agent with short-term memory\n",
    "LangGraph persistence layer\r\n",
    "Allows you to resume any conversation with the agent\r\n",
    "@entrypoint\r\n",
    "\r\n",
    "Decorator indicates the start of a workflow / agent\r\n",
    "Produces a Pregel object, an abstraction for managing a few things\r\n",
    "Execution -- Syncronous (invoke), Async (ainvoke), streaming (stream)\r\n",
    "State -- Checkpointing, Human in the loop (interrupt)\r\n",
    "Optional: @entrypoint.final\r\n",
    "\r\n",
    "Can be used to specify what to return vs what to checkpoint\r\n",
    "@task\r\n",
    "\r\n",
    "Results from tasks are saved as checkpoints\r\n",
    "Important for caching results (time-consuming operations)\r\n",
    "Support streaming updates from tasks\r\n",
    "Support tracing\r\n",
    "Calling a task --\r\n",
    "\r\n",
    "When you call a task, it returns immediately with a future object.\r\n",
    "A future is a placeholder for a result that will be available later.\r\n",
    ".result() marks where in the code you actually need the task's result."
   ]
  },
  {
   "cell_type": "code",
   "execution_count": 17,
   "id": "69412dfa-2a24-42d3-bf8b-084417e34218",
   "metadata": {},
   "outputs": [],
   "source": [
    "from langchain_anthropic import ChatAnthropic\n",
    "llm = ChatAnthropic(model=\"claude-3-5-sonnet-latest\")"
   ]
  },
  {
   "cell_type": "code",
   "execution_count": 19,
   "id": "62fdd987-180c-4626-93c1-7f646b3ba375",
   "metadata": {},
   "outputs": [],
   "source": [
    "from langchain_core.tools import tool\n",
    "\n",
    "# Define tools\n",
    "@tool\n",
    "def multiply(a: int, b: int) -> int:\n",
    "    \"\"\"Multiply a and b.\n",
    "\n",
    "    Args:\n",
    "        a: first int\n",
    "        b: second int\n",
    "    \"\"\"\n",
    "    return a * b\n",
    "\n",
    "\n",
    "@tool\n",
    "def add(a: int, b: int) -> int:\n",
    "    \"\"\"Adds a and b.\n",
    "\n",
    "    Args:\n",
    "        a: first int\n",
    "        b: second int\n",
    "    \"\"\"\n",
    "    return a + b\n",
    "\n",
    "\n",
    "@tool\n",
    "def divide(a: int, b: int) -> float:\n",
    "    \"\"\"Divide a and b.\n",
    "\n",
    "    Args:\n",
    "        a: first int\n",
    "        b: second int\n",
    "    \"\"\"\n",
    "    return a / b\n",
    "\n",
    "# Augment the LLM with tools\n",
    "tools = [add, multiply, divide]\n",
    "tools_by_name = {tool.name: tool for tool in tools}\n",
    "llm_with_tools = llm.bind_tools(tools)"
   ]
  },
  {
   "cell_type": "code",
   "execution_count": 25,
   "id": "1f5bdbda-26b2-4323-b632-a03c29c152d7",
   "metadata": {},
   "outputs": [],
   "source": [
    "import uuid\n",
    "from langgraph.func import entrypoint, task # New \n",
    "from langgraph.checkpoint.memory import MemorySaver # New \n",
    "from langgraph.graph import add_messages\n",
    "from langchain_core.messages import (\n",
    "    SystemMessage,\n",
    "    HumanMessage,\n",
    "    BaseMessage,\n",
    "    ToolCall,\n",
    ")\n",
    "\n",
    "@task # New\n",
    "def call_llm(messages: list[BaseMessage]):\n",
    "    \"\"\"LLM decides whether to call a tool or not\"\"\"\n",
    "    return llm_with_tools.invoke(\n",
    "        [\n",
    "            SystemMessage(\n",
    "                content=\"You are a helpful assistant tasked with performing arithmetic on a set of inputs.\"\n",
    "            )\n",
    "        ]\n",
    "        + messages\n",
    "    )\n",
    "\n",
    "@task # New\n",
    "def call_tool(tool_call: ToolCall):\n",
    "    \"\"\"Performs the tool call\"\"\"\n",
    "\n",
    "    tool = tools_by_name[tool_call[\"name\"]]\n",
    "    return tool.invoke(tool_call)\n",
    "\n",
    "checkpointer = MemorySaver() # New\n",
    "@entrypoint(checkpointer=checkpointer) # New \n",
    "def agent(messages: list[BaseMessage], previous: list[BaseMessage]):\n",
    "    \"\"\" Tool calling agent \"\"\"\n",
    "    # Add previous messages from short-term memory to the current messages\n",
    "    if previous is not None:\n",
    "        messages = add_messages(previous, messages)    \n",
    "    # Call the LLM\n",
    "    llm_response = call_llm(messages).result()\n",
    "    while True:\n",
    "        if not llm_response.tool_calls:\n",
    "            break\n",
    "        # Execute tools\n",
    "        tool_results = [\n",
    "            call_tool(tool_call).result() for tool_call in llm_response.tool_calls\n",
    "        ]\n",
    "        messages = add_messages(messages, [llm_response, *tool_results])\n",
    "        llm_response = call_llm(messages).result()\n",
    "    messages = add_messages(messages, llm_response)\n",
    "\n",
    "    # Return LLM response and save the full message history\n",
    "    return messages"
   ]
  },
  {
   "cell_type": "code",
   "execution_count": 23,
   "id": "c52b7c75-e1ec-4ba8-85a6-d6d657dc4553",
   "metadata": {},
   "outputs": [
    {
     "name": "stdout",
     "output_type": "stream",
     "text": [
      "================================\u001b[1m Human Message \u001b[0m=================================\n",
      "\n",
      "Add 3 and 4.\n",
      "==================================\u001b[1m Ai Message \u001b[0m==================================\n",
      "\n",
      "[{'text': \"I'll help you add 3 and 4 using the `add` function.\", 'type': 'text'}, {'id': 'toolu_01SwrSZovYng8KTv37yMYRuh', 'input': {'a': 3, 'b': 4}, 'name': 'add', 'type': 'tool_use'}]\n",
      "Tool Calls:\n",
      "  add (toolu_01SwrSZovYng8KTv37yMYRuh)\n",
      " Call ID: toolu_01SwrSZovYng8KTv37yMYRuh\n",
      "  Args:\n",
      "    a: 3\n",
      "    b: 4\n",
      "=================================\u001b[1m Tool Message \u001b[0m=================================\n",
      "Name: add\n",
      "\n",
      "7\n",
      "==================================\u001b[1m Ai Message \u001b[0m==================================\n",
      "\n",
      "The sum of 3 and 4 is 7.\n"
     ]
    }
   ],
   "source": [
    "# Thread ID\n",
    "thread_id = str(uuid.uuid4())\n",
    "# Config\n",
    "config = {\"configurable\": {\"thread_id\": thread_id}}\n",
    "# Run with checkpointer to persist state in memory\n",
    "messages = agent.invoke([HumanMessage(content=\"Add 3 and 4.\")], config)\n",
    "for m in messages:\n",
    "    m.pretty_print()"
   ]
  },
  {
   "cell_type": "markdown",
   "id": "b4a456f1-8f65-43d8-91d0-326af3ddf755",
   "metadata": {},
   "source": [
    "### C - Agent with HITL"
   ]
  },
  {
   "cell_type": "code",
   "execution_count": 34,
   "id": "542cd18f-2cf2-4122-a0cd-9be0e2bbab6c",
   "metadata": {},
   "outputs": [],
   "source": [
    "from langgraph.types import interrupt\n",
    "\n",
    "@task\n",
    "def call_llm(messages: list[BaseMessage]):\n",
    "    \"\"\"LLM decides whether to call a tool or not\"\"\"\n",
    "    print(\"Calling LLM!\")\n",
    "    return llm_with_tools.invoke(\n",
    "        [\n",
    "            SystemMessage(\n",
    "                content=\"You are a helpful assistant tasked with performing arithmetic on a set of inputs.\"\n",
    "            )\n",
    "        ]\n",
    "        + messages\n",
    "    )\n",
    "\n",
    "@task\n",
    "def call_tool(tool_call: ToolCall):\n",
    "    \"\"\"Performs the tool call\"\"\"\n",
    "    print(\"Calling tool!\")\n",
    "    # Interrupt the workflow to get a review from a human.\n",
    "    is_approved = interrupt({ # New \n",
    "            # Any json-serializable payload provided to interrupt as argument.\n",
    "            # It will be surfaced on the client side as an Interrupt when streaming data\n",
    "            # from the workflow.\n",
    "            \"tool_call\": tool_call, # The tool call we want reviewed.\n",
    "            # We can add any additional information that we need.\n",
    "            # For example, introduce a key called \"action\" with some instructions.\n",
    "            \"action\": \"Please approve/reject the tool call\",\n",
    "        })\n",
    "    \n",
    "    if is_approved:\n",
    "        tool = tools_by_name[tool_call[\"name\"]]\n",
    "        return tool.invoke(tool_call)\n",
    "    else:\n",
    "        return \"Tool call rejected\"\n",
    "\n",
    "@entrypoint(checkpointer=MemorySaver())  \n",
    "def agent(messages: list[BaseMessage], previous: list[BaseMessage]): \n",
    "    \"\"\" Tool calling agent \"\"\"\n",
    "    print(\"Executing agent!\")\n",
    "    \n",
    "    # Add previous messages from short-term memory to the current messages\n",
    "    if previous is not None:\n",
    "        messages = add_messages(previous, messages)\n",
    "    \n",
    "    # Call the LLM\n",
    "    llm_response = call_llm(messages).result()\n",
    "\n",
    "    while True:\n",
    "        if not llm_response.tool_calls:\n",
    "            break\n",
    "\n",
    "        # Execute tools\n",
    "        tool_results = [\n",
    "            call_tool(tool_call).result() for tool_call in llm_response.tool_calls\n",
    "        ]\n",
    "        messages = add_messages(messages, [llm_response, *tool_results])\n",
    "        llm_response = call_llm(messages).result()\n",
    "\n",
    "    messages = add_messages(messages, llm_response)\n",
    "    return messages"
   ]
  },
  {
   "cell_type": "code",
   "execution_count": 30,
   "id": "09f18c6e-b7a9-4144-a06b-fc6ec1abef99",
   "metadata": {},
   "outputs": [
    {
     "name": "stdout",
     "output_type": "stream",
     "text": [
      "Executing agent!\n",
      "Calling LLM!\n",
      "Calling tool!\n",
      "{'tool_call': {'name': 'add', 'args': {'a': 3, 'b': 4}, 'id': 'toolu_01DHaTNcKddvftJ8oPo9MJsT', 'type': 'tool_call'}, 'action': 'Please approve/reject the tool call'}\n",
      "{'tool_call': {'name': 'add', 'args': {'a': 3, 'b': 4}, 'id': 'toolu_01DHaTNcKddvftJ8oPo9MJsT', 'type': 'tool_call'}, 'action': 'Please approve/reject the tool call'}\n"
     ]
    }
   ],
   "source": [
    "# Thread ID\n",
    "thread_id = str(uuid.uuid4())\n",
    "\n",
    "# Config\n",
    "config = {\"configurable\": {\"thread_id\": thread_id}}\n",
    "\n",
    "# Run until the interrupt \n",
    "for item in agent.stream([HumanMessage(content=\"Add 3 and 4.\")], config, stream_mode=\"updates\"):\n",
    "    if '__interrupt__' in item:\n",
    "        print(item['__interrupt__'][0].value)"
   ]
  },
  {
   "cell_type": "code",
   "execution_count": 32,
   "id": "8aa20baf-6c34-488b-af92-4438c6ad40fa",
   "metadata": {},
   "outputs": [
    {
     "name": "stdout",
     "output_type": "stream",
     "text": [
      "Executing agent!\n",
      "Calling tool!\n",
      "Calling LLM!\n",
      "==================================\u001b[1m Ai Message \u001b[0m==================================\n",
      "\n",
      "The sum of 3 and 4 is 7.\n"
     ]
    }
   ],
   "source": [
    "from langgraph.types import Command\n",
    "for item in agent.stream(Command(resume=True), config, stream_mode=\"updates\"):\n",
    "    if 'agent' in item:\n",
    "        item['agent'][-1].pretty_print()"
   ]
  },
  {
   "cell_type": "code",
   "execution_count": null,
   "id": "af750fbe-397f-4575-9846-b3d7d2081d48",
   "metadata": {},
   "outputs": [],
   "source": []
  }
 ],
 "metadata": {
  "kernelspec": {
   "display_name": "Python (LangChain)",
   "language": "python",
   "name": "langchain-env"
  },
  "language_info": {
   "codemirror_mode": {
    "name": "ipython",
    "version": 3
   },
   "file_extension": ".py",
   "mimetype": "text/x-python",
   "name": "python",
   "nbconvert_exporter": "python",
   "pygments_lexer": "ipython3",
   "version": "3.12.0"
  }
 },
 "nbformat": 4,
 "nbformat_minor": 5
}
